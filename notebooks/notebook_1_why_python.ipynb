{
 "cells": [
  {
   "cell_type": "code",
   "execution_count": 1,
   "metadata": {
    "collapsed": false,
    "slideshow": {
     "slide_type": "skip"
    }
   },
   "outputs": [
    {
     "name": "stderr",
     "output_type": "stream",
     "text": [
      "ERROR: File `'talktools.py'` not found.\n"
     ]
    }
   ],
   "source": [
    "%run talktools"
   ]
  },
  {
   "cell_type": "markdown",
   "metadata": {
    "slideshow": {
     "slide_type": "slide"
    }
   },
   "source": [
    "# Why Python?\n",
    "\n",
    "## Objectives\n",
    "\n",
    "* Present the advantages of Python\n",
    "* Provide references to other resources\n",
    "    * Installation\n",
    "    * Editors"
   ]
  },
  {
   "cell_type": "markdown",
   "metadata": {
    "slideshow": {
     "slide_type": "slide"
    }
   },
   "source": [
    "## The Scientists Needs\n",
    "\n",
    "* Get data\n",
    "* Manipulate/process data\n",
    "* Analyze data\n",
    "    * Visualize\n",
    "    * Model\n",
    "    * Search for patterns"
   ]
  },
  {
   "cell_type": "markdown",
   "metadata": {
    "slideshow": {
     "slide_type": "slide"
    }
   },
   "source": [
    "## Getting data - Python Strengths\n",
    "\n",
    "* Reading data as a stream\n",
    "* String processing\n",
    "* Libraries for cloud computing\n",
    "    * Jupyter notebooks for parallel processing\n",
    "    * Pyspark for Hadoop"
   ]
  },
  {
   "cell_type": "markdown",
   "metadata": {
    "slideshow": {
     "slide_type": "slide"
    }
   },
   "source": [
    "## Other strengths\n",
    "\n",
    "* **Batteries included** Has a full-features standard library\n",
    "* **Easy to learn** Built to read like pseudo code\n",
    "* **Numerical tools** Speed up the slower parts of your code\n",
    "    * **Cython** Compile python to C\n",
    "    * **Numba** Just-in-time compiler\n",
    "* **Used by software developers** Allows access to tools/libraries for other tasks"
   ]
  },
  {
   "cell_type": "markdown",
   "metadata": {
    "slideshow": {
     "slide_type": "slide"
    }
   },
   "source": [
    "# The Scientific Python ecosystem\n",
    "\n",
    "* Python consists of \n",
    "    * General purpose language and libraries\n",
    "    * Third-party libraries for computation\n",
    "    * Third-party libraries for data science"
   ]
  },
  {
   "cell_type": "markdown",
   "metadata": {
    "slideshow": {
     "slide_type": "slide"
    }
   },
   "source": [
    "## Python\n",
    "\n",
    "A generic and modern computing language\n",
    "\n",
    "* The language: \n",
    "    * flow control, \n",
    "    * data types (``string``, ``int``),\n",
    "    * data collections (lists, dictionaries), etc.\n",
    "\n",
    "* The standard library: \n",
    "    * string processing, \n",
    "    * file management, \n",
    "    * simple network protocols.\n",
    "\n",
    "* Many specialized modules or applications written in\n",
    "  Python: \n",
    "    * web framework, etc. ... and \n",
    "    * scientific computing.\n",
    "\n",
    "* Development tools (automatic testing, documentation generation)\n"
   ]
  },
  {
   "cell_type": "markdown",
   "metadata": {
    "slideshow": {
     "slide_type": "slide"
    }
   },
   "source": [
    "**Core numeric libraries**\n",
    "\n",
    "* **Numpy**: numerical computing with powerful **numerical arrays**\n",
    "  objects, and routines to manipulate them. http://www.numpy.org/\n",
    "\n",
    "\n",
    "* **Scipy** : high-level numerical routines.\n",
    "  Optimization, regression, interpolation, etc http://www.scipy.org/\n",
    "\n",
    "* **Matplotlib** : 2-D visualization, \"publication-ready\" plots\n",
    "  http://matplotlib.org/"
   ]
  },
  {
   "cell_type": "markdown",
   "metadata": {
    "slideshow": {
     "slide_type": "fragment"
    }
   },
   "source": [
    "**Advanced interactive environments**:\n",
    "\n",
    "* **IPython**, an advanced **Python console** http://ipython.org/\n",
    "\n",
    "* **Jupyter**, **notebooks** in the browser http://jupyter.org/\n"
   ]
  },
  {
   "cell_type": "markdown",
   "metadata": {
    "slideshow": {
     "slide_type": "slide"
    }
   },
   "source": [
    "**Domain-specific packages**,\n",
    "\n",
    "* **Mayavi** 3-D visualization\n",
    "\n",
    "* **pandas, statsmodels, seaborn** statistics \n",
    "\n",
    "* **sympy** symbolic computing\n",
    "\n",
    "* **scikit-image** image processing\n",
    "\n",
    "* **scikit-learn** machine learning\n",
    "\n",
    "* **Pyspark** Interface to Hadoop/Spark framework\n"
   ]
  },
  {
   "cell_type": "markdown",
   "metadata": {
    "slideshow": {
     "slide_type": "slide"
    }
   },
   "source": [
    "## Before starting: Installing a working environment\n",
    "\n",
    "* Python for data science\n",
    "* Complex installation\n",
    "* Many inter-related components\n",
    "* **Solution** Use a pre-packaged distribution like\n",
    "  * Anaconda https://www.continuum.io/downloads\n",
    "  * EPD https://store.enthought.com/downloads\n",
    "  * WinPython https://winpython.github.io"
   ]
  },
  {
   "cell_type": "markdown",
   "metadata": {
    "slideshow": {
     "slide_type": "slide"
    }
   },
   "source": [
    "## Python 3 or Python 2?\n",
    "\n",
    "* Python 2\n",
    "    * No longer in development\n",
    "    * Has some worts\n",
    "* Python 3\n",
    "    * Released in 2008\n",
    "    * Fixed and improved the language\n",
    "    * A few packages still don't work for Python 3\n",
    "* **Recommendation** Use Python 3"
   ]
  },
  {
   "cell_type": "markdown",
   "metadata": {
    "slideshow": {
     "slide_type": "slide"
    }
   },
   "source": [
    "# Writing Python Code\n",
    "\n",
    "* A number of way to process code in Python\n",
    "    * Interactive interpreter\n",
    "    * Notebook\n",
    "    * Editor"
   ]
  },
  {
   "cell_type": "markdown",
   "metadata": {
    "slideshow": {
     "slide_type": "slide"
    }
   },
   "source": [
    "## Working Interactively with Jupyter\n",
    "\n",
    "* Jupyter Console\n",
    "    * Good for quickly testing code\n",
    "    * Can be used like bash\n",
    "* Jupyter notebook\n",
    "    * Literate programming\n",
    "    * Renders text, images, math\n",
    "    * Like Rmarkdown with live code\n",
    "    * Jupyterhub - Classroom environment\n",
    "* Features of both\n",
    "    * Useful magic commands\n",
    "    * Program in many languages at once (R, Julia, Octave)\n",
    "    * Remote connection to server\n",
    "    * Access to parallel processing\n",
    "\n"
   ]
  },
  {
   "cell_type": "markdown",
   "metadata": {
    "slideshow": {
     "slide_type": "slide"
    }
   },
   "source": [
    "## Writing Program in an IDE \n",
    "* Integrated Development Environment\n",
    "    * Editor\n",
    "    * Interpreter\n",
    "    * Other features\n",
    "* Some examples\n",
    "  * Spyder https://pythonhosted.org/spyder/\n",
    "      * IPython console, \n",
    "      * a debugger, \n",
    "      * a profiler...\n",
    "  * PyCharm https://www.jetbrains.com/pycharm\n",
    "      * IPython console, \n",
    "      * notebooks, \n",
    "      * a debugger... (freely available, but commercial)\n",
    "  * Atom https://atom.io\n"
   ]
  }
 ],
 "metadata": {
  "anaconda-cloud": {},
  "kernelspec": {
   "display_name": "Python [Root]",
   "language": "python",
   "name": "Python [Root]"
  },
  "language_info": {
   "codemirror_mode": {
    "name": "ipython",
    "version": 3
   },
   "file_extension": ".py",
   "mimetype": "text/x-python",
   "name": "python",
   "nbconvert_exporter": "python",
   "pygments_lexer": "ipython3",
   "version": "3.5.1"
  }
 },
 "nbformat": 4,
 "nbformat_minor": 0
}
