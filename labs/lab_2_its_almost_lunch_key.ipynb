{
 "cells": [
  {
   "cell_type": "markdown",
   "metadata": {},
   "source": [
    "# Lab 3 - It's Almost Lunch!\n",
    "\n",
    "As it is almost lunch, let's collect some data on nearby restaurants."
   ]
  },
  {
   "cell_type": "markdown",
   "metadata": {
    "collapsed": false
   },
   "source": [
    "## <font color=\"red\"> Problem 1 </font>\n",
    "\n",
    "Goto yelp.com and perform a search with the following parameters\n",
    "\n",
    "* **Find** Restaurants\n",
    "* **Near** State College, PA\n",
    "\n",
    "Select the following options after the initial search\n",
    "* **Price** Inexpensive\n",
    "* **Good for Lunch**\n",
    "\n",
    "\n",
    "**Tasks**\n",
    "1. Copy the resulting web address below and determine the how the     specified search terms related to the resulting address\n",
    "2. Use requests and Beautiful Soap to download the content of the front page."
   ]
  },
  {
   "cell_type": "code",
   "execution_count": null,
   "metadata": {
    "collapsed": false
   },
   "outputs": [],
   "source": []
  },
  {
   "cell_type": "code",
   "execution_count": 1,
   "metadata": {
    "collapsed": true
   },
   "outputs": [],
   "source": [
    "import requests\n",
    "import bs4"
   ]
  },
  {
   "cell_type": "code",
   "execution_count": 2,
   "metadata": {
    "collapsed": false
   },
   "outputs": [],
   "source": [
    "example_url = 'https://www.yelp.com/search?find_desc=Restaurants&find_loc=State+College,+PA&start=0&attrs=RestaurantsPriceRange2.1,GoodForMeal.lunch'\n",
    "s = requests.Session()\n",
    "r = s.get(example_url)\n",
    "\n",
    "soup = bs4.BeautifulSoup(r.content, \"lxml\")"
   ]
  },
  {
   "cell_type": "markdown",
   "metadata": {
    "collapsed": true
   },
   "source": [
    "## <font color=\"red\"> Problem 2 </font>\n",
    "\n",
    "We want to grab the restaurant's name.\n",
    "\n",
    "Use Inspect Element to determine the tags/classes for each of the elements listed above.  Write expressions/functions to pull out the name of each restaurant.  **Confirm that there is an extra restaurant in the list (11 instead of 10).**"
   ]
  },
  {
   "cell_type": "code",
   "execution_count": 6,
   "metadata": {
    "collapsed": false
   },
   "outputs": [
    {
     "data": {
      "text/plain": [
       "[<a class=\"biz-name js-analytics-click\" data-analytics-label=\"biz-name\" data-hovercard-id=\"jWLyXaEuEd0APE2W9SHN1Q\" href=\"/adredir?ad_business_id=77_sj6NDqZ_ZwZFfBm0QDA&amp;campaign_id=wqcKMDGGwk6ifS52qvc2oQ&amp;click_origin=search_results&amp;placement=above_search&amp;redirect_url=https%3A%2F%2Fwww.yelp.com%2Fbiz%2Fthe-dining-room-state-college&amp;request_id=c22a9f69d14a9cc0&amp;signature=329482fcf1074d06ab928ade257e4b1936bf9e09ff95d8085d2c8614654cf063&amp;slot=0\"><span>The Dining Room</span></a>,\n",
       " <a class=\"biz-name js-analytics-click\" data-analytics-label=\"biz-name\" data-hovercard-id=\"YfYpQFqv3oQw2TYI5O9Jzg\" href=\"/biz/sowers-harvest-caf%C3%A9-state-college-2?osq=Restaurants\"><span>Sowers Harvest Café</span></a>,\n",
       " <a class=\"biz-name js-analytics-click\" data-analytics-label=\"biz-name\" data-hovercard-id=\"J4sX_iBR7qHS3VZewFYquw\" href=\"/biz/big-bowl-noodle-house-state-college?osq=Restaurants\"><span>Big Bowl Noodle House</span></a>]"
      ]
     },
     "execution_count": 6,
     "metadata": {},
     "output_type": "execute_result"
    }
   ],
   "source": [
    "# The name is in a (unnamed) span.\n",
    "# Looking at surrounding tags, we see and \"a\" tag with a class\n",
    "# starting with \"biz-name\"\n",
    "soup('a', class_=\"biz-name\")[:3]"
   ]
  },
  {
   "cell_type": "code",
   "execution_count": 7,
   "metadata": {
    "collapsed": false
   },
   "outputs": [
    {
     "data": {
      "text/plain": [
       "<a class=\"biz-name js-analytics-click\" data-analytics-label=\"biz-name\" data-hovercard-id=\"jWLyXaEuEd0APE2W9SHN1Q\" href=\"/adredir?ad_business_id=77_sj6NDqZ_ZwZFfBm0QDA&amp;campaign_id=wqcKMDGGwk6ifS52qvc2oQ&amp;click_origin=search_results&amp;placement=above_search&amp;redirect_url=https%3A%2F%2Fwww.yelp.com%2Fbiz%2Fthe-dining-room-state-college&amp;request_id=c22a9f69d14a9cc0&amp;signature=329482fcf1074d06ab928ade257e4b1936bf9e09ff95d8085d2c8614654cf063&amp;slot=0\"><span>The Dining Room</span></a>"
      ]
     },
     "execution_count": 7,
     "metadata": {},
     "output_type": "execute_result"
    }
   ],
   "source": [
    "# Isolate one tag\n",
    "tag = soup('a', class_=\"biz-name\")[0]\n",
    "tag"
   ]
  },
  {
   "cell_type": "code",
   "execution_count": 8,
   "metadata": {
    "collapsed": false
   },
   "outputs": [
    {
     "data": {
      "text/plain": [
       "<span>The Dining Room</span>"
      ]
     },
     "execution_count": 8,
     "metadata": {},
     "output_type": "execute_result"
    }
   ],
   "source": [
    "# The string for the name lives in a span\n",
    "tag.span"
   ]
  },
  {
   "cell_type": "code",
   "execution_count": 9,
   "metadata": {
    "collapsed": false
   },
   "outputs": [
    {
     "data": {
      "text/plain": [
       "'The Dining Room'"
      ]
     },
     "execution_count": 9,
     "metadata": {},
     "output_type": "execute_result"
    }
   ],
   "source": [
    "# The text we want is the next thing in the tree\n",
    "tag.span.next"
   ]
  },
  {
   "cell_type": "code",
   "execution_count": 10,
   "metadata": {
    "collapsed": false
   },
   "outputs": [
    {
     "data": {
      "text/plain": [
       "['The Dining Room',\n",
       " 'Sowers Harvest Café',\n",
       " 'Big Bowl Noodle House',\n",
       " 'Cafe Verve',\n",
       " 'Original Waffle Shop',\n",
       " 'Penn Kebab',\n",
       " 'Carvers Deli & BBQ',\n",
       " 'Sauly Boy’s',\n",
       " 'Rey Azteca',\n",
       " 'Pita Cabana Cafe',\n",
       " 'Mamma Mia’s']"
      ]
     },
     "execution_count": 10,
     "metadata": {},
     "output_type": "execute_result"
    }
   ],
   "source": [
    "# Now we use a comprehension to get all the names\n",
    "names = [tag.span.next for tag in soup('a', class_=\"biz-name\")]\n",
    "names\n",
    "# You should verify that the first restaurant is not one of the top 10."
   ]
  },
  {
   "cell_type": "code",
   "execution_count": 11,
   "metadata": {
    "collapsed": false
   },
   "outputs": [
    {
     "data": {
      "text/plain": [
       "11"
      ]
     },
     "execution_count": 11,
     "metadata": {},
     "output_type": "execute_result"
    }
   ],
   "source": [
    "# And package this expression in a lambda for eash reuse\n",
    "names = lambda tag: [tag.span.next for tag in soup('a', class_=\"biz-name\")]\n",
    "len(names(soup))"
   ]
  },
  {
   "cell_type": "markdown",
   "metadata": {},
   "source": [
    "## <font color=\"red\"> Problem 3 </font>\n",
    "\n",
    "Since we picked up extra information, we will need to be clever about identifying the information block for each restaurant.  Use the following steps to get a list that contains the information for each restaurant.\n",
    "\n",
    "1. Start by finding the ranking of the restaurant (1., 2., etc.).  Use a list comprehension to pull out all of these tags.\n",
    "2. Now search for a parent of the above tags that surrounds all of the restaurant information.  You will want to use the `find_parent` method on each of the tags from **1.**.  This should be accomplished with a list comprehension.\n",
    "\n",
    "The resulting list will be the starting point for gathering all of the information."
   ]
  },
  {
   "cell_type": "code",
   "execution_count": 13,
   "metadata": {
    "collapsed": false
   },
   "outputs": [
    {
     "data": {
      "text/plain": [
       "[<span class=\"indexed-biz-name\">1.         <a class=\"biz-name js-analytics-click\" data-analytics-label=\"biz-name\" data-hovercard-id=\"YfYpQFqv3oQw2TYI5O9Jzg\" href=\"/biz/sowers-harvest-caf%C3%A9-state-college-2?osq=Restaurants\"><span>Sowers Harvest Café</span></a>\n",
       " </span>,\n",
       " <span class=\"indexed-biz-name\">2.         <a class=\"biz-name js-analytics-click\" data-analytics-label=\"biz-name\" data-hovercard-id=\"J4sX_iBR7qHS3VZewFYquw\" href=\"/biz/big-bowl-noodle-house-state-college?osq=Restaurants\"><span>Big Bowl Noodle House</span></a>\n",
       " </span>,\n",
       " <span class=\"indexed-biz-name\">3.         <a class=\"biz-name js-analytics-click\" data-analytics-label=\"biz-name\" data-hovercard-id=\"d0mqfCVDR8w5dDeVhwU_RA\" href=\"/biz/cafe-verve-state-college-4?osq=Restaurants\"><span>Cafe Verve</span></a>\n",
       " </span>,\n",
       " <span class=\"indexed-biz-name\">4.         <a class=\"biz-name js-analytics-click\" data-analytics-label=\"biz-name\" data-hovercard-id=\"BZNJ-K1eW6ipe8EpfrYKoQ\" href=\"/biz/original-waffle-shop-state-college?osq=Restaurants\"><span>Original Waffle Shop</span></a>\n",
       " </span>,\n",
       " <span class=\"indexed-biz-name\">5.         <a class=\"biz-name js-analytics-click\" data-analytics-label=\"biz-name\" data-hovercard-id=\"xNNyfdlq3fjw9PPaa8Rzzg\" href=\"/biz/penn-kebab-state-college?osq=Restaurants\"><span>Penn Kebab</span></a>\n",
       " </span>,\n",
       " <span class=\"indexed-biz-name\">6.         <a class=\"biz-name js-analytics-click\" data-analytics-label=\"biz-name\" data-hovercard-id=\"tN55EOCsBzUoQFqxSqFpNA\" href=\"/biz/carvers-deli-and-bbq-state-college?osq=Restaurants\"><span>Carvers Deli &amp; BBQ</span></a>\n",
       " </span>,\n",
       " <span class=\"indexed-biz-name\">7.         <a class=\"biz-name js-analytics-click\" data-analytics-label=\"biz-name\" data-hovercard-id=\"VWcddfozI_iHdx2eBRy2Jg\" href=\"/biz/sauly-boys-state-college?osq=Restaurants\"><span>Sauly Boy’s</span></a>\n",
       " </span>,\n",
       " <span class=\"indexed-biz-name\">8.         <a class=\"biz-name js-analytics-click\" data-analytics-label=\"biz-name\" data-hovercard-id=\"i05SBLUOyNiJkZQ2vpYRqg\" href=\"/biz/rey-azteca-state-college?osq=Restaurants\"><span>Rey Azteca</span></a>\n",
       " </span>,\n",
       " <span class=\"indexed-biz-name\">9.         <a class=\"biz-name js-analytics-click\" data-analytics-label=\"biz-name\" data-hovercard-id=\"uRUxqhVPZlM5piZBOrsElw\" href=\"/biz/pita-cabana-cafe-state-college-2?osq=Restaurants\"><span>Pita Cabana Cafe</span></a>\n",
       " </span>,\n",
       " <span class=\"indexed-biz-name\">10.         <a class=\"biz-name js-analytics-click\" data-analytics-label=\"biz-name\" data-hovercard-id=\"mU4av75yuNW40HOoIx3Lfg\" href=\"/biz/mamma-mias-state-college?osq=Restaurants\"><span>Mamma Mia’s</span></a>\n",
       " </span>]"
      ]
     },
     "execution_count": 13,
     "metadata": {},
     "output_type": "execute_result"
    }
   ],
   "source": [
    "indexes = [tag for tag in soup('span', class_=\"indexed-biz-name\")]\n",
    "indexes"
   ]
  },
  {
   "cell_type": "code",
   "execution_count": 25,
   "metadata": {
    "collapsed": false
   },
   "outputs": [
    {
     "data": {
      "text/plain": [
       "10"
      ]
     },
     "execution_count": 25,
     "metadata": {},
     "output_type": "execute_result"
    }
   ],
   "source": [
    "info_blocks = [tag.find_parent('div', 'biz-listing-large') for tag in indexes]\n",
    "len(info_blocks)"
   ]
  },
  {
   "cell_type": "markdown",
   "metadata": {},
   "source": [
    "## <font color=\"red\"> Problem 4 </font>\n",
    "\n",
    "Write expressions/functions to gather each of the following pieces of information for each of the restaurants."
   ]
  },
  {
   "cell_type": "markdown",
   "metadata": {},
   "source": [
    "#### Example - Restaurant Name"
   ]
  },
  {
   "cell_type": "code",
   "execution_count": 29,
   "metadata": {
    "collapsed": false
   },
   "outputs": [
    {
     "data": {
      "text/plain": [
       "['Sowers Harvest Café',\n",
       " 'Big Bowl Noodle House',\n",
       " 'Cafe Verve',\n",
       " 'Original Waffle Shop',\n",
       " 'Penn Kebab',\n",
       " 'Carvers Deli & BBQ',\n",
       " 'Sauly Boy’s',\n",
       " 'Rey Azteca',\n",
       " 'Pita Cabana Cafe',\n",
       " 'Mamma Mia’s']"
      ]
     },
     "execution_count": 29,
     "metadata": {},
     "output_type": "execute_result"
    }
   ],
   "source": [
    "[tag.find('a', 'biz-name').span.next for tag in info_blocks]"
   ]
  },
  {
   "cell_type": "markdown",
   "metadata": {},
   "source": [
    "#### Rating"
   ]
  },
  {
   "cell_type": "code",
   "execution_count": 43,
   "metadata": {
    "collapsed": false
   },
   "outputs": [
    {
     "data": {
      "text/plain": [
       "['4.5 star rating',\n",
       " '4.0 star rating',\n",
       " '4.0 star rating',\n",
       " '4.5 star rating',\n",
       " '4.0 star rating',\n",
       " '4.0 star rating',\n",
       " '3.5 star rating',\n",
       " '4.0 star rating',\n",
       " '4.0 star rating',\n",
       " '3.5 star rating']"
      ]
     },
     "execution_count": 43,
     "metadata": {},
     "output_type": "execute_result"
    }
   ],
   "source": [
    "# Trick here is to pull the alt attribute out of the img\n",
    "[tag.find('div', 'i-stars').img['alt'] for tag in info_blocks]"
   ]
  },
  {
   "cell_type": "markdown",
   "metadata": {},
   "source": [
    "#### Address"
   ]
  },
  {
   "cell_type": "code",
   "execution_count": 45,
   "metadata": {
    "collapsed": false
   },
   "outputs": [
    {
     "data": {
      "text/plain": [
       "['421 E Beaver Ave',\n",
       " '418 E College Ave',\n",
       " '115 E Beaver Ave',\n",
       " '1610 W College Ave',\n",
       " '418 E College Ave',\n",
       " '1633 N Atherton St',\n",
       " '124 S Allen St',\n",
       " '485 Benner Pike',\n",
       " '334 E Calder Way',\n",
       " '128 E College Ave']"
      ]
     },
     "execution_count": 45,
     "metadata": {},
     "output_type": "execute_result"
    }
   ],
   "source": [
    "[tag.find('address').next.strip() for tag in info_blocks]"
   ]
  },
  {
   "cell_type": "markdown",
   "metadata": {},
   "source": [
    "#### Review Count"
   ]
  },
  {
   "cell_type": "code",
   "execution_count": 48,
   "metadata": {
    "collapsed": false
   },
   "outputs": [
    {
     "data": {
      "text/plain": [
       "['60 reviews',\n",
       " '151 reviews',\n",
       " '16 reviews',\n",
       " '78 reviews',\n",
       " '40 reviews',\n",
       " '46 reviews',\n",
       " '10 reviews',\n",
       " '105 reviews',\n",
       " '95 reviews',\n",
       " '45 reviews']"
      ]
     },
     "execution_count": 48,
     "metadata": {},
     "output_type": "execute_result"
    }
   ],
   "source": [
    "[tag.find('span', 'review-count').next.strip() for tag in info_blocks]"
   ]
  },
  {
   "cell_type": "markdown",
   "metadata": {},
   "source": [
    "#### Category"
   ]
  },
  {
   "cell_type": "code",
   "execution_count": 55,
   "metadata": {
    "collapsed": false
   },
   "outputs": [
    {
     "data": {
      "text/plain": [
       "<span class=\"category-str-list\">\n",
       "<a href=\"/search?find_desc=Restaurants&amp;attrs=RestaurantsPriceRange2.1%2CGoodForMeal.lunch&amp;find_loc=State+College%2C+PA&amp;cflt=coffee\">Coffee &amp; Tea</a>,\n",
       "                    <a href=\"/search?find_desc=Restaurants&amp;attrs=RestaurantsPriceRange2.1%2CGoodForMeal.lunch&amp;find_loc=State+College%2C+PA&amp;cflt=breakfast_brunch\">Breakfast &amp; Brunch</a>,\n",
       "                    <a href=\"/search?find_desc=Restaurants&amp;attrs=RestaurantsPriceRange2.1%2CGoodForMeal.lunch&amp;find_loc=State+College%2C+PA&amp;cflt=tradamerican\">American (Traditional)</a>\n",
       "</span>"
      ]
     },
     "execution_count": 55,
     "metadata": {},
     "output_type": "execute_result"
    }
   ],
   "source": [
    "# Note that each tag contains multiple categories.  We need a helper funtion to combine them\n",
    "cat_lists = [tag.find('span', 'category-str-list') for tag in info_blocks]\n",
    "cat_example = cat_lists[0]\n",
    "cat_example"
   ]
  },
  {
   "cell_type": "code",
   "execution_count": 59,
   "metadata": {
    "collapsed": false
   },
   "outputs": [
    {
     "data": {
      "text/plain": [
       "'Coffee & Tea;Breakfast & Brunch;American (Traditional)'"
      ]
     },
     "execution_count": 59,
     "metadata": {},
     "output_type": "execute_result"
    }
   ],
   "source": [
    "\";\".join([tag.next for tag in cat_example.find_all('a')])"
   ]
  },
  {
   "cell_type": "code",
   "execution_count": 63,
   "metadata": {
    "collapsed": false
   },
   "outputs": [
    {
     "data": {
      "text/plain": [
       "'Coffee & Tea;Breakfast & Brunch;American (Traditional)'"
      ]
     },
     "execution_count": 63,
     "metadata": {},
     "output_type": "execute_result"
    }
   ],
   "source": [
    "get_and_combine_categories = lambda cat_list: \";\".join([tag.next for tag in cat_list.find_all('a')])\n",
    "get_and_combine_categories(cat_example)"
   ]
  },
  {
   "cell_type": "code",
   "execution_count": 64,
   "metadata": {
    "collapsed": false
   },
   "outputs": [
    {
     "data": {
      "text/plain": [
       "['Coffee & Tea;Breakfast & Brunch;American (Traditional)',\n",
       " 'Chinese;Taiwanese;Noodles',\n",
       " 'Cafes;Vegan',\n",
       " 'Waffles',\n",
       " 'Turkish;Wraps',\n",
       " 'Barbeque;Sandwiches;Delis',\n",
       " 'Hot Dogs;Burgers;Gelato',\n",
       " 'Mexican',\n",
       " 'Mediterranean;Sandwiches',\n",
       " 'Pizza;Italian']"
      ]
     },
     "execution_count": 64,
     "metadata": {},
     "output_type": "execute_result"
    }
   ],
   "source": [
    "[get_and_combine_categories(tag) for tag in cat_lists]"
   ]
  },
  {
   "cell_type": "markdown",
   "metadata": {},
   "source": [
    "## <font color=\"red\">  Problem 4 </font>\n",
    "\n",
    "Package all of the expressions in a function that takes a url as input and returns the table of information.  Use a `def` statement and put the above helper functions in the body of the main function.  Test this function on the front page of the search."
   ]
  },
  {
   "cell_type": "code",
   "execution_count": null,
   "metadata": {
    "collapsed": true
   },
   "outputs": [],
   "source": []
  },
  {
   "cell_type": "markdown",
   "metadata": {},
   "source": [
    "## <font color='red'> Problem 5 </font>\n",
    "\n",
    "**Tasks**\n",
    "1. Get the addresses for the first two pages of search output.  \n",
    "2. Identify the part of the address related to the page.\n",
    "3. Build a list of urls for all of the search results.\n",
    "4. Pull all of the information and print the results to a csv file."
   ]
  },
  {
   "cell_type": "code",
   "execution_count": 65,
   "metadata": {
    "collapsed": true
   },
   "outputs": [],
   "source": [
    "urls = [\"https://www.yelp.com/search?find_desc=Restaurants&find_loc=State+College,+PA&start=0&attrs=RestaurantsPriceRange2.1,GoodForMeal.lunch\",\n",
    "    \"https://www.yelp.com/search?find_desc=Restaurants&find_loc=State+College,+PA&start=10&attrs=RestaurantsPriceRange2.1,GoodForMeal.lunch\",\n",
    "        \"https://www.yelp.com/search?find_desc=Restaurants&find_loc=State+College,+PA&start=20&attrs=RestaurantsPriceRange2.1,GoodForMeal.lunch\",\n",
    "        \"https://www.yelp.com/search?find_desc=Restaurants&find_loc=State+College,+PA&start=30&attrs=RestaurantsPriceRange2.1,GoodForMeal.lunch\"]"
   ]
  },
  {
   "cell_type": "code",
   "execution_count": null,
   "metadata": {
    "collapsed": true
   },
   "outputs": [],
   "source": []
  },
  {
   "cell_type": "markdown",
   "metadata": {},
   "source": [
    "## BONUS\n",
    "\n",
    "It turns out that the page also contains the latitude and longitude for each restaurant, but the information is embedded in a javascript call.  The following code extras this information and was used to add the location information to the final csv file."
   ]
  },
  {
   "cell_type": "code",
   "execution_count": null,
   "metadata": {
    "collapsed": true
   },
   "outputs": [],
   "source": [
    "import json\n",
    "json_dump = lambda soup: json.loads([tag.next for tag in soup.find_all('script') if 'init.search' in tag.next][0].split('(')[1][:-3])\n",
    "get_lat_long_script = lambda soup: [tag.next for tag in soup.find_all('script') if 'init.search' in tag.next]\n",
    "script_result = get_lat_long_script(soup)\n",
    "script_result\n",
    "\n",
    "pull_out_json = lambda script_result: json.loads(script_result[0].split('(')[1][:-3])\n",
    "json_dump = lambda soup: pull_out_json(get_lat_long_script(soup))\n",
    "dump = json_dump(soup)\n",
    "\n",
    "locations = lambda dump: {key:val['location'] for key, val in dump['searchMap']['markers'].items()}\n",
    "locations(dump)\n",
    "\n",
    "get_latitude = lambda index, soup: str(locations(json_dump(soup))[index[0]]['latitude'])\n",
    "get_latitude('1.', soup)\n",
    "\n",
    "get_longitude = lambda index, soup: str(locations(json_dump(soup))[index[0]]['longitude'])\n",
    "get_longitude('1.', soup)"
   ]
  }
 ],
 "metadata": {
  "anaconda-cloud": {},
  "kernelspec": {
   "display_name": "Python [Root]",
   "language": "python",
   "name": "Python [Root]"
  },
  "language_info": {
   "codemirror_mode": {
    "name": "ipython",
    "version": 3
   },
   "file_extension": ".py",
   "mimetype": "text/x-python",
   "name": "python",
   "nbconvert_exporter": "python",
   "pygments_lexer": "ipython3",
   "version": "3.5.1"
  }
 },
 "nbformat": 4,
 "nbformat_minor": 0
}
