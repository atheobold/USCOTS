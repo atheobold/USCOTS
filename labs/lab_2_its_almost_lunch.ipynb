{
 "cells": [
  {
   "cell_type": "markdown",
   "metadata": {},
   "source": [
    "# Lab 3 - It's Almost Lunch!\n",
    "\n",
    "As it is almost lunch, let's collect some data on nearby restaurants."
   ]
  },
  {
   "cell_type": "markdown",
   "metadata": {
    "collapsed": false
   },
   "source": [
    "## <font color=\"red\"> Problem 1 </font>\n",
    "\n",
    "Goto yelp.com and perform a search with the following parameters\n",
    "\n",
    "* **Find** Restaurants\n",
    "* **Near** State College, PA\n",
    "\n",
    "Select the following options after the initial search\n",
    "* **Price** Inexpensive\n",
    "* **Good for Lunch**\n",
    "\n",
    "\n",
    "**Tasks**\n",
    "1. Copy the resulting web address below and determine the how the     specified search terms related to the resulting address\n",
    "2. Use requests and Beautiful Soap to download the content of the front page."
   ]
  },
  {
   "cell_type": "code",
   "execution_count": null,
   "metadata": {
    "collapsed": false
   },
   "outputs": [],
   "source": []
  },
  {
   "cell_type": "code",
   "execution_count": 1,
   "metadata": {
    "collapsed": true
   },
   "outputs": [],
   "source": [
    "import requests\n",
    "import bs4"
   ]
  },
  {
   "cell_type": "code",
   "execution_count": 2,
   "metadata": {
    "collapsed": false
   },
   "outputs": [],
   "source": [
    "example_url = 'https://www.yelp.com/search?find_desc=Restaurants&find_loc=State+College,+PA&start=0&attrs=RestaurantsPriceRange2.1,GoodForMeal.lunch'\n",
    "s = requests.Session()\n",
    "r = s.get(example_url)\n",
    "\n",
    "soup = bs4.BeautifulSoup(r.content, \"lxml\")"
   ]
  },
  {
   "cell_type": "markdown",
   "metadata": {
    "collapsed": true
   },
   "source": [
    "## <font color=\"red\"> Problem 2 </font>\n",
    "\n",
    "We want to grab the restaurant's name.\n",
    "\n",
    "Use Inspect Element to determine the tags/classes for each of the elements listed above.  Write expressions/functions to pull out the name of each restaurant.  **Confirm that there is an extra restaurant in the list (11 instead of 10).**"
   ]
  },
  {
   "cell_type": "code",
   "execution_count": null,
   "metadata": {
    "collapsed": false
   },
   "outputs": [],
   "source": []
  },
  {
   "cell_type": "code",
   "execution_count": null,
   "metadata": {
    "collapsed": false
   },
   "outputs": [],
   "source": []
  },
  {
   "cell_type": "code",
   "execution_count": null,
   "metadata": {
    "collapsed": false
   },
   "outputs": [],
   "source": []
  },
  {
   "cell_type": "code",
   "execution_count": null,
   "metadata": {
    "collapsed": false
   },
   "outputs": [],
   "source": []
  },
  {
   "cell_type": "code",
   "execution_count": null,
   "metadata": {
    "collapsed": false
   },
   "outputs": [],
   "source": []
  },
  {
   "cell_type": "code",
   "execution_count": null,
   "metadata": {
    "collapsed": false
   },
   "outputs": [],
   "source": []
  },
  {
   "cell_type": "markdown",
   "metadata": {},
   "source": [
    "## <font color=\"red\"> Problem 3 </font>\n",
    "\n",
    "Since we picked up extra information, we will need to be clever about identifying the information block for each restaurant.  Use the following steps to get a list that contains the information for each restaurant.\n",
    "\n",
    "1. Start by finding the ranking of the restaurant (1., 2., etc.).  Use a list comprehension to pull out all of these tags.\n",
    "2. Now search for a parent of the above tags that surrounds all of the restaurant information.  You will want to use the `find_parent` method on each of the tags from **1.**.  This should be accomplished with a list comprehension.\n",
    "\n",
    "The resulting list will be the starting point for gathering all of the information."
   ]
  },
  {
   "cell_type": "code",
   "execution_count": null,
   "metadata": {
    "collapsed": false
   },
   "outputs": [],
   "source": []
  },
  {
   "cell_type": "code",
   "execution_count": null,
   "metadata": {
    "collapsed": false
   },
   "outputs": [],
   "source": []
  },
  {
   "cell_type": "markdown",
   "metadata": {},
   "source": [
    "## <font color=\"red\"> Problem 4 </font>\n",
    "\n",
    "Write expressions/functions to gather each of the following pieces of information for each of the restaurants."
   ]
  },
  {
   "cell_type": "markdown",
   "metadata": {},
   "source": [
    "#### Example - Restaurant Name"
   ]
  },
  {
   "cell_type": "code",
   "execution_count": null,
   "metadata": {
    "collapsed": false
   },
   "outputs": [],
   "source": []
  },
  {
   "cell_type": "markdown",
   "metadata": {},
   "source": [
    "#### Rating"
   ]
  },
  {
   "cell_type": "code",
   "execution_count": null,
   "metadata": {
    "collapsed": false
   },
   "outputs": [],
   "source": []
  },
  {
   "cell_type": "markdown",
   "metadata": {},
   "source": [
    "#### Address"
   ]
  },
  {
   "cell_type": "code",
   "execution_count": null,
   "metadata": {
    "collapsed": false
   },
   "outputs": [],
   "source": []
  },
  {
   "cell_type": "markdown",
   "metadata": {},
   "source": [
    "#### Review Count"
   ]
  },
  {
   "cell_type": "code",
   "execution_count": null,
   "metadata": {
    "collapsed": false
   },
   "outputs": [],
   "source": []
  },
  {
   "cell_type": "markdown",
   "metadata": {},
   "source": [
    "#### Category"
   ]
  },
  {
   "cell_type": "code",
   "execution_count": null,
   "metadata": {
    "collapsed": false
   },
   "outputs": [],
   "source": []
  },
  {
   "cell_type": "code",
   "execution_count": null,
   "metadata": {
    "collapsed": false
   },
   "outputs": [],
   "source": []
  },
  {
   "cell_type": "code",
   "execution_count": null,
   "metadata": {
    "collapsed": false
   },
   "outputs": [],
   "source": []
  },
  {
   "cell_type": "code",
   "execution_count": null,
   "metadata": {
    "collapsed": false
   },
   "outputs": [],
   "source": []
  },
  {
   "cell_type": "markdown",
   "metadata": {},
   "source": [
    "## <font color=\"red\">  Problem 4 </font>\n",
    "\n",
    "Package all of the expressions in a function that takes a url as input and returns the table of information.  Use a `def` statement and put the above helper functions in the body of the main function.  Test this function on the front page of the search."
   ]
  },
  {
   "cell_type": "code",
   "execution_count": null,
   "metadata": {
    "collapsed": true
   },
   "outputs": [],
   "source": []
  },
  {
   "cell_type": "markdown",
   "metadata": {},
   "source": [
    "## <font color='red'> Problem 5 </font>\n",
    "\n",
    "**Tasks**\n",
    "1. Get the addresses for the first two pages of search output.  \n",
    "2. Identify the part of the address related to the page.\n",
    "3. Build a list of urls for all of the search results.\n",
    "4. Pull all of the information and print the results to a csv file."
   ]
  },
  {
   "cell_type": "code",
   "execution_count": 65,
   "metadata": {
    "collapsed": true
   },
   "outputs": [],
   "source": [
    "urls = [\"https://www.yelp.com/search?find_desc=Restaurants&find_loc=State+College,+PA&start=0&attrs=RestaurantsPriceRange2.1,GoodForMeal.lunch\",\n",
    "    \"https://www.yelp.com/search?find_desc=Restaurants&find_loc=State+College,+PA&start=10&attrs=RestaurantsPriceRange2.1,GoodForMeal.lunch\",\n",
    "        \"https://www.yelp.com/search?find_desc=Restaurants&find_loc=State+College,+PA&start=20&attrs=RestaurantsPriceRange2.1,GoodForMeal.lunch\",\n",
    "        \"https://www.yelp.com/search?find_desc=Restaurants&find_loc=State+College,+PA&start=30&attrs=RestaurantsPriceRange2.1,GoodForMeal.lunch\"]"
   ]
  },
  {
   "cell_type": "code",
   "execution_count": null,
   "metadata": {
    "collapsed": true
   },
   "outputs": [],
   "source": []
  },
  {
   "cell_type": "markdown",
   "metadata": {},
   "source": [
    "## BONUS\n",
    "\n",
    "It turns out that the page also contains the latitude and longitude for each restaurant, but the information is embedded in a javascript call.  The following code extras this information and was used to add the location information to the final csv file."
   ]
  },
  {
   "cell_type": "code",
   "execution_count": null,
   "metadata": {
    "collapsed": true
   },
   "outputs": [],
   "source": [
    "import json\n",
    "json_dump = lambda soup: json.loads([tag.next for tag in soup.find_all('script') if 'init.search' in tag.next][0].split('(')[1][:-3])\n",
    "get_lat_long_script = lambda soup: [tag.next for tag in soup.find_all('script') if 'init.search' in tag.next]\n",
    "script_result = get_lat_long_script(soup)\n",
    "script_result\n",
    "\n",
    "pull_out_json = lambda script_result: json.loads(script_result[0].split('(')[1][:-3])\n",
    "json_dump = lambda soup: pull_out_json(get_lat_long_script(soup))\n",
    "dump = json_dump(soup)\n",
    "\n",
    "locations = lambda dump: {key:val['location'] for key, val in dump['searchMap']['markers'].items()}\n",
    "locations(dump)\n",
    "\n",
    "get_latitude = lambda index, soup: str(locations(json_dump(soup))[index[0]]['latitude'])\n",
    "get_latitude('1.', soup)\n",
    "\n",
    "get_longitude = lambda index, soup: str(locations(json_dump(soup))[index[0]]['longitude'])\n",
    "get_longitude('1.', soup)"
   ]
  }
 ],
 "metadata": {
  "anaconda-cloud": {},
  "kernelspec": {
   "display_name": "Python [Root]",
   "language": "python",
   "name": "Python [Root]"
  },
  "language_info": {
   "codemirror_mode": {
    "name": "ipython",
    "version": 3
   },
   "file_extension": ".py",
   "mimetype": "text/x-python",
   "name": "python",
   "nbconvert_exporter": "python",
   "pygments_lexer": "ipython3",
   "version": "3.5.1"
  }
 },
 "nbformat": 4,
 "nbformat_minor": 0
}
