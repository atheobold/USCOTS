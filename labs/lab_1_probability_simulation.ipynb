{
 "cells": [
  {
   "cell_type": "markdown",
   "metadata": {},
   "source": [
    "# Lab 1 - Probability Simulation\n",
    "\n",
    "* Feel free to work in groups\n",
    "* We are happy to help"
   ]
  },
  {
   "cell_type": "markdown",
   "metadata": {},
   "source": [
    "### <font color='red'> Problem 1 </font>\n",
    "\n",
    "Write a function called `uniform01` and takes a positive integer `n` as an argument and returns a list of `n` values, each selected at random from the interval $(0,1)$.  \n",
    "\n",
    "**Hint** Use the `random` function from the `random` module."
   ]
  },
  {
   "cell_type": "code",
   "execution_count": null,
   "metadata": {
    "collapsed": false
   },
   "outputs": [],
   "source": []
  },
  {
   "cell_type": "markdown",
   "metadata": {},
   "source": [
    "### <font color='red'> Problem 2 </font>\n",
    "\n",
    "Suppose that $V = cU + d$.  If $U$ has a distribution that is $uniform(0,1)$ than it can be shown that $V$ has a distribution that is $uniform(d, c+d)$.  Write a function called `uniform` that takes three arguments `n` (sample size), `a` and `b` and returns a list of `n` numbers that come from a $uniform(a, b)$ distribution.  Your solution should use and transform `uniform01`.  \n",
    "\n",
    "** Hint 1** Write a helper function based on $V = cU + d$.  Be sure the number are in the right range (add tests of edge cases).\n",
    "\n",
    "**Hint 2** Use a comprehension should be of the form `[ ... for u in uniform01(n) ___]` that uses your helper function."
   ]
  },
  {
   "cell_type": "code",
   "execution_count": null,
   "metadata": {
    "collapsed": false
   },
   "outputs": [],
   "source": []
  },
  {
   "cell_type": "markdown",
   "metadata": {
    "collapsed": false
   },
   "source": [
    "### <font color='red'> Problem 3 </font>\n",
    "\n",
    "Suppose that $V\\sim Uniform(3,4)$ and $U\\sim Uniform(3.5, 4.2)$.  We are interested in $P(U > V)$.  While this problem is not hard to solve analytically, we will use a Python simulation to approximate an answer to the question.  \n",
    "\n",
    "**a.** Write a function called `bivariate_uniform` that take a number `n` as input and returns a list of `n` pairs of the form $(u,v)$, which represent observation from the respective distribution given above (Use `zip`).  \n",
    "\n",
    "**b.** Write a helper function that takes a $(u,v)$ pair and returns 1 if $u < v$ and 0 otherwise.  You will want to use a the conditional expression.\n",
    "\n",
    "**c.** Write another function called `empirical_prob` that takes a generic list of tuples (like those generated in **a**) as input and returns an estimate of the above probability based on `n` trials (pairs of $(u,v)$).  **Hint** Use the function from **b** and `sum`.\n",
    "\n",
    "**d.** Write a function called `probaility_estimate` that composes the last two functions and use it to estimate the answer to this question with a large number of trials.\n",
    "\n",
    "Recall that $f\\circ g \\circ h(x) = f(g(h(x))0$"
   ]
  },
  {
   "cell_type": "code",
   "execution_count": null,
   "metadata": {
    "collapsed": false
   },
   "outputs": [],
   "source": []
  },
  {
   "cell_type": "code",
   "execution_count": null,
   "metadata": {
    "collapsed": false
   },
   "outputs": [],
   "source": []
  },
  {
   "cell_type": "code",
   "execution_count": null,
   "metadata": {
    "collapsed": false
   },
   "outputs": [],
   "source": []
  },
  {
   "cell_type": "code",
   "execution_count": null,
   "metadata": {
    "collapsed": true
   },
   "outputs": [],
   "source": []
  }
 ],
 "metadata": {
  "anaconda-cloud": {},
  "kernelspec": {
   "display_name": "Python [Root]",
   "language": "python",
   "name": "Python [Root]"
  },
  "language_info": {
   "codemirror_mode": {
    "name": "ipython",
    "version": 3
   },
   "file_extension": ".py",
   "mimetype": "text/x-python",
   "name": "python",
   "nbconvert_exporter": "python",
   "pygments_lexer": "ipython3",
   "version": "3.5.1"
  }
 },
 "nbformat": 4,
 "nbformat_minor": 2
}
